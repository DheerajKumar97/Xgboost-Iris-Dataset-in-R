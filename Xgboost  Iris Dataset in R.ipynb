{
 "cells": [
  {
   "cell_type": "markdown",
   "metadata": {},
   "source": [
    "#  Xgboost  For Iris Dataset in R"
   ]
  },
  {
   "cell_type": "markdown",
   "metadata": {},
   "source": [
    "## Load Dataset"
   ]
  },
  {
   "cell_type": "code",
   "execution_count": 173,
   "metadata": {},
   "outputs": [],
   "source": [
    "data(\"iris\")"
   ]
  },
  {
   "cell_type": "markdown",
   "metadata": {},
   "source": [
    "## Data Conversion"
   ]
  },
  {
   "cell_type": "code",
   "execution_count": 174,
   "metadata": {},
   "outputs": [],
   "source": [
    "Species <-  iris$Species"
   ]
  },
  {
   "cell_type": "code",
   "execution_count": 175,
   "metadata": {},
   "outputs": [],
   "source": [
    "label = as.integer(iris$Species)-1"
   ]
  },
  {
   "cell_type": "code",
   "execution_count": 176,
   "metadata": {},
   "outputs": [],
   "source": [
    "iris$Species = NULL"
   ]
  },
  {
   "cell_type": "code",
   "execution_count": 177,
   "metadata": {},
   "outputs": [],
   "source": [
    "n = nrow(iris)"
   ]
  },
  {
   "cell_type": "markdown",
   "metadata": {},
   "source": [
    "## Train Test Split"
   ]
  },
  {
   "cell_type": "code",
   "execution_count": 178,
   "metadata": {},
   "outputs": [],
   "source": [
    "train.index = sample(n,floor(0.75*n))\n",
    "train.data = as.matrix(iris[train.index,])\n",
    "test.data = as.matrix(iris[-train.index,])"
   ]
  },
  {
   "cell_type": "code",
   "execution_count": 179,
   "metadata": {},
   "outputs": [],
   "source": [
    "train.label = label[train.index]\n",
    "test.label = label[-train.index]"
   ]
  },
  {
   "cell_type": "code",
   "execution_count": 180,
   "metadata": {},
   "outputs": [
    {
     "data": {
      "text/html": [
       "<ol class=list-inline>\n",
       "\t<li>112</li>\n",
       "\t<li>4</li>\n",
       "</ol>\n"
      ],
      "text/latex": [
       "\\begin{enumerate*}\n",
       "\\item 112\n",
       "\\item 4\n",
       "\\end{enumerate*}\n"
      ],
      "text/markdown": [
       "1. 112\n",
       "2. 4\n",
       "\n",
       "\n"
      ],
      "text/plain": [
       "[1] 112   4"
      ]
     },
     "metadata": {},
     "output_type": "display_data"
    },
    {
     "data": {
      "text/html": [
       "<ol class=list-inline>\n",
       "\t<li>38</li>\n",
       "\t<li>4</li>\n",
       "</ol>\n"
      ],
      "text/latex": [
       "\\begin{enumerate*}\n",
       "\\item 38\n",
       "\\item 4\n",
       "\\end{enumerate*}\n"
      ],
      "text/markdown": [
       "1. 38\n",
       "2. 4\n",
       "\n",
       "\n"
      ],
      "text/plain": [
       "[1] 38  4"
      ]
     },
     "metadata": {},
     "output_type": "display_data"
    }
   ],
   "source": [
    "dim(train.data) ; dim(test.data)"
   ]
  },
  {
   "cell_type": "markdown",
   "metadata": {},
   "source": [
    "## xgb.Dmatrix Transformation"
   ]
  },
  {
   "cell_type": "code",
   "execution_count": 181,
   "metadata": {},
   "outputs": [],
   "source": [
    "library(xgboost)\n",
    "xgb.train = xgb.DMatrix(data=train.data,label=train.label)\n",
    "xgb.test = xgb.DMatrix(data=test.data,label=test.label)"
   ]
  },
  {
   "cell_type": "code",
   "execution_count": 182,
   "metadata": {},
   "outputs": [
    {
     "data": {
      "text/plain": [
       "xgb.DMatrix  dim: 112 x 4  info: label  colnames: yes"
      ]
     },
     "metadata": {},
     "output_type": "display_data"
    }
   ],
   "source": [
    "xgb.train"
   ]
  },
  {
   "cell_type": "code",
   "execution_count": 183,
   "metadata": {},
   "outputs": [
    {
     "data": {
      "text/plain": [
       "xgb.DMatrix  dim: 38 x 4  info: label  colnames: yes"
      ]
     },
     "metadata": {},
     "output_type": "display_data"
    }
   ],
   "source": [
    "xgb.test"
   ]
  },
  {
   "cell_type": "markdown",
   "metadata": {},
   "source": [
    "## Defining Parameters"
   ]
  },
  {
   "cell_type": "code",
   "execution_count": 184,
   "metadata": {},
   "outputs": [],
   "source": [
    "num_class = length(levels(Species))\n",
    "params = list(\n",
    "  booster=\"gbtree\",\n",
    "  eta=0.001,\n",
    "  max_depth=5,\n",
    "  gamma=3,\n",
    "  subsample=0.75,\n",
    "  colsample_bytree=1,\n",
    "  objective=\"multi:softprob\",\n",
    "  eval_metric=\"mlogloss\",\n",
    "  num_class=num_class\n",
    ")"
   ]
  },
  {
   "cell_type": "markdown",
   "metadata": {},
   "source": [
    "## Model Training"
   ]
  },
  {
   "cell_type": "code",
   "execution_count": 185,
   "metadata": {},
   "outputs": [],
   "source": [
    "xgb.fit=xgb.train(\n",
    "  params=params,\n",
    "  data=xgb.train,\n",
    "  nrounds=10000,\n",
    "  nthreads=1,\n",
    "  early_stopping_rounds=10,\n",
    "  watchlist=list(val1=xgb.train,val2=xgb.test),\n",
    "  verbose=0\n",
    ")"
   ]
  },
  {
   "cell_type": "code",
   "execution_count": 186,
   "metadata": {},
   "outputs": [
    {
     "data": {
      "text/plain": [
       "##### xgb.Booster\n",
       "raw: 3.7 Mb \n",
       "call:\n",
       "  xgb.train(params = params, data = xgb.train, nrounds = 10000, \n",
       "    watchlist = list(val1 = xgb.train, val2 = xgb.test), verbose = 0, \n",
       "    early_stopping_rounds = 10, nthreads = 1)\n",
       "params (as set within xgb.train):\n",
       "  booster = \"gbtree\", eta = \"0.001\", max_depth = \"5\", gamma = \"3\", subsample = \"0.75\", colsample_bytree = \"1\", objective = \"multi:softprob\", eval_metric = \"mlogloss\", num_class = \"3\", nthreads = \"1\", silent = \"1\"\n",
       "xgb.attributes:\n",
       "  best_iteration, best_msg, best_ntreelimit, best_score, niter\n",
       "callbacks:\n",
       "  cb.evaluation.log()\n",
       "  cb.early.stop(stopping_rounds = early_stopping_rounds, maximize = maximize, \n",
       "    verbose = verbose)\n",
       "# of features: 4 \n",
       "niter: 3265\n",
       "best_iteration : 3255 \n",
       "best_ntreelimit : 3255 \n",
       "best_score : 0.164217 \n",
       "nfeatures : 4 \n",
       "evaluation_log:\n",
       "    iter val1_mlogloss val2_mlogloss\n",
       "       1      1.097373      1.097355\n",
       "       2      1.096100      1.096045\n",
       "---                                 \n",
       "    3264      0.191855      0.164228\n",
       "    3265      0.191855      0.164229"
      ]
     },
     "metadata": {},
     "output_type": "display_data"
    }
   ],
   "source": [
    "xgb.fit"
   ]
  },
  {
   "cell_type": "code",
   "execution_count": 193,
   "metadata": {},
   "outputs": [
    {
     "data": {
      "text/html": [
       "<table>\n",
       "<thead><tr><th scope=col>iter</th><th scope=col>val1_mlogloss</th><th scope=col>val2_mlogloss</th></tr></thead>\n",
       "<tbody>\n",
       "\t<tr><td> 1      </td><td>1.097373</td><td>1.097355</td></tr>\n",
       "\t<tr><td> 2      </td><td>1.096100</td><td>1.096045</td></tr>\n",
       "\t<tr><td> 3      </td><td>1.094837</td><td>1.094753</td></tr>\n",
       "\t<tr><td> 4      </td><td>1.093615</td><td>1.093503</td></tr>\n",
       "\t<tr><td> 5      </td><td>1.092424</td><td>1.092304</td></tr>\n",
       "\t<tr><td> 6      </td><td>1.091207</td><td>1.091066</td></tr>\n",
       "\t<tr><td> 7      </td><td>1.089983</td><td>1.089822</td></tr>\n",
       "\t<tr><td> 8      </td><td>1.088771</td><td>1.088595</td></tr>\n",
       "\t<tr><td> 9      </td><td>1.087664</td><td>1.087512</td></tr>\n",
       "\t<tr><td>10      </td><td>1.086423</td><td>1.086248</td></tr>\n",
       "\t<tr><td>11      </td><td>1.085215</td><td>1.085020</td></tr>\n",
       "\t<tr><td>12      </td><td>1.083973</td><td>1.083744</td></tr>\n",
       "\t<tr><td>13      </td><td>1.082762</td><td>1.082498</td></tr>\n",
       "\t<tr><td>14      </td><td>1.081578</td><td>1.081278</td></tr>\n",
       "\t<tr><td>15      </td><td>1.080397</td><td>1.080077</td></tr>\n",
       "\t<tr><td>16      </td><td>1.079195</td><td>1.078849</td></tr>\n",
       "\t<tr><td>17      </td><td>1.078002</td><td>1.077647</td></tr>\n",
       "\t<tr><td>18      </td><td>1.076830</td><td>1.076478</td></tr>\n",
       "\t<tr><td>19      </td><td>1.075650</td><td>1.075292</td></tr>\n",
       "\t<tr><td>20      </td><td>1.074474</td><td>1.074120</td></tr>\n",
       "\t<tr><td>21      </td><td>1.073232</td><td>1.072846</td></tr>\n",
       "\t<tr><td>22      </td><td>1.072049</td><td>1.071632</td></tr>\n",
       "\t<tr><td>23      </td><td>1.070821</td><td>1.070368</td></tr>\n",
       "\t<tr><td>24      </td><td>1.069609</td><td>1.069123</td></tr>\n",
       "\t<tr><td>25      </td><td>1.068439</td><td>1.067932</td></tr>\n",
       "\t<tr><td>26      </td><td>1.067265</td><td>1.066704</td></tr>\n",
       "\t<tr><td>27      </td><td>1.066061</td><td>1.065568</td></tr>\n",
       "\t<tr><td>28      </td><td>1.064866</td><td>1.064355</td></tr>\n",
       "\t<tr><td>29      </td><td>1.063674</td><td>1.063151</td></tr>\n",
       "\t<tr><td>30      </td><td>1.062510</td><td>1.061979</td></tr>\n",
       "\t<tr><td>...</td><td>...</td><td>...</td></tr>\n",
       "\t<tr><td>3236    </td><td>0.192036</td><td>0.164464</td></tr>\n",
       "\t<tr><td>3237    </td><td>0.192006</td><td>0.164421</td></tr>\n",
       "\t<tr><td>3238    </td><td>0.192006</td><td>0.164415</td></tr>\n",
       "\t<tr><td>3239    </td><td>0.191975</td><td>0.164378</td></tr>\n",
       "\t<tr><td>3240    </td><td>0.191975</td><td>0.164379</td></tr>\n",
       "\t<tr><td>3241    </td><td>0.191944</td><td>0.164336</td></tr>\n",
       "\t<tr><td>3242    </td><td>0.191914</td><td>0.164298</td></tr>\n",
       "\t<tr><td>3243    </td><td>0.191914</td><td>0.164301</td></tr>\n",
       "\t<tr><td>3244    </td><td>0.191914</td><td>0.164299</td></tr>\n",
       "\t<tr><td>3245    </td><td>0.191914</td><td>0.164297</td></tr>\n",
       "\t<tr><td>3246    </td><td>0.191914</td><td>0.164298</td></tr>\n",
       "\t<tr><td>3247    </td><td>0.191914</td><td>0.164298</td></tr>\n",
       "\t<tr><td>3248    </td><td>0.191885</td><td>0.164264</td></tr>\n",
       "\t<tr><td>3249    </td><td>0.191885</td><td>0.164266</td></tr>\n",
       "\t<tr><td>3250    </td><td>0.191885</td><td>0.164261</td></tr>\n",
       "\t<tr><td>3251    </td><td>0.191885</td><td>0.164261</td></tr>\n",
       "\t<tr><td>3252    </td><td>0.191885</td><td>0.164259</td></tr>\n",
       "\t<tr><td>3253    </td><td>0.191885</td><td>0.164257</td></tr>\n",
       "\t<tr><td>3254    </td><td>0.191885</td><td>0.164258</td></tr>\n",
       "\t<tr><td>3255    </td><td>0.191855</td><td>0.164217</td></tr>\n",
       "\t<tr><td>3256    </td><td>0.191855</td><td>0.164217</td></tr>\n",
       "\t<tr><td>3257    </td><td>0.191855</td><td>0.164217</td></tr>\n",
       "\t<tr><td>3258    </td><td>0.191855</td><td>0.164219</td></tr>\n",
       "\t<tr><td>3259    </td><td>0.191855</td><td>0.164219</td></tr>\n",
       "\t<tr><td>3260    </td><td>0.191855</td><td>0.164217</td></tr>\n",
       "\t<tr><td>3261    </td><td>0.191855</td><td>0.164217</td></tr>\n",
       "\t<tr><td>3262    </td><td>0.191855</td><td>0.164221</td></tr>\n",
       "\t<tr><td>3263    </td><td>0.191855</td><td>0.164224</td></tr>\n",
       "\t<tr><td>3264    </td><td>0.191855</td><td>0.164228</td></tr>\n",
       "\t<tr><td>3265    </td><td>0.191855</td><td>0.164229</td></tr>\n",
       "</tbody>\n",
       "</table>\n"
      ],
      "text/latex": [
       "\\begin{tabular}{r|lll}\n",
       " iter & val1\\_mlogloss & val2\\_mlogloss\\\\\n",
       "\\hline\n",
       "\t  1       & 1.097373 & 1.097355\\\\\n",
       "\t  2       & 1.096100 & 1.096045\\\\\n",
       "\t  3       & 1.094837 & 1.094753\\\\\n",
       "\t  4       & 1.093615 & 1.093503\\\\\n",
       "\t  5       & 1.092424 & 1.092304\\\\\n",
       "\t  6       & 1.091207 & 1.091066\\\\\n",
       "\t  7       & 1.089983 & 1.089822\\\\\n",
       "\t  8       & 1.088771 & 1.088595\\\\\n",
       "\t  9       & 1.087664 & 1.087512\\\\\n",
       "\t 10       & 1.086423 & 1.086248\\\\\n",
       "\t 11       & 1.085215 & 1.085020\\\\\n",
       "\t 12       & 1.083973 & 1.083744\\\\\n",
       "\t 13       & 1.082762 & 1.082498\\\\\n",
       "\t 14       & 1.081578 & 1.081278\\\\\n",
       "\t 15       & 1.080397 & 1.080077\\\\\n",
       "\t 16       & 1.079195 & 1.078849\\\\\n",
       "\t 17       & 1.078002 & 1.077647\\\\\n",
       "\t 18       & 1.076830 & 1.076478\\\\\n",
       "\t 19       & 1.075650 & 1.075292\\\\\n",
       "\t 20       & 1.074474 & 1.074120\\\\\n",
       "\t 21       & 1.073232 & 1.072846\\\\\n",
       "\t 22       & 1.072049 & 1.071632\\\\\n",
       "\t 23       & 1.070821 & 1.070368\\\\\n",
       "\t 24       & 1.069609 & 1.069123\\\\\n",
       "\t 25       & 1.068439 & 1.067932\\\\\n",
       "\t 26       & 1.067265 & 1.066704\\\\\n",
       "\t 27       & 1.066061 & 1.065568\\\\\n",
       "\t 28       & 1.064866 & 1.064355\\\\\n",
       "\t 29       & 1.063674 & 1.063151\\\\\n",
       "\t 30       & 1.062510 & 1.061979\\\\\n",
       "\t ... & ... & ...\\\\\n",
       "\t 3236     & 0.192036 & 0.164464\\\\\n",
       "\t 3237     & 0.192006 & 0.164421\\\\\n",
       "\t 3238     & 0.192006 & 0.164415\\\\\n",
       "\t 3239     & 0.191975 & 0.164378\\\\\n",
       "\t 3240     & 0.191975 & 0.164379\\\\\n",
       "\t 3241     & 0.191944 & 0.164336\\\\\n",
       "\t 3242     & 0.191914 & 0.164298\\\\\n",
       "\t 3243     & 0.191914 & 0.164301\\\\\n",
       "\t 3244     & 0.191914 & 0.164299\\\\\n",
       "\t 3245     & 0.191914 & 0.164297\\\\\n",
       "\t 3246     & 0.191914 & 0.164298\\\\\n",
       "\t 3247     & 0.191914 & 0.164298\\\\\n",
       "\t 3248     & 0.191885 & 0.164264\\\\\n",
       "\t 3249     & 0.191885 & 0.164266\\\\\n",
       "\t 3250     & 0.191885 & 0.164261\\\\\n",
       "\t 3251     & 0.191885 & 0.164261\\\\\n",
       "\t 3252     & 0.191885 & 0.164259\\\\\n",
       "\t 3253     & 0.191885 & 0.164257\\\\\n",
       "\t 3254     & 0.191885 & 0.164258\\\\\n",
       "\t 3255     & 0.191855 & 0.164217\\\\\n",
       "\t 3256     & 0.191855 & 0.164217\\\\\n",
       "\t 3257     & 0.191855 & 0.164217\\\\\n",
       "\t 3258     & 0.191855 & 0.164219\\\\\n",
       "\t 3259     & 0.191855 & 0.164219\\\\\n",
       "\t 3260     & 0.191855 & 0.164217\\\\\n",
       "\t 3261     & 0.191855 & 0.164217\\\\\n",
       "\t 3262     & 0.191855 & 0.164221\\\\\n",
       "\t 3263     & 0.191855 & 0.164224\\\\\n",
       "\t 3264     & 0.191855 & 0.164228\\\\\n",
       "\t 3265     & 0.191855 & 0.164229\\\\\n",
       "\\end{tabular}\n"
      ],
      "text/markdown": [
       "\n",
       "iter | val1_mlogloss | val2_mlogloss | \n",
       "|---|---|---|---|---|---|---|---|---|---|---|---|---|---|---|---|---|---|---|---|---|---|---|---|---|---|---|---|---|---|---|---|---|---|---|---|---|---|---|---|---|---|---|---|---|---|---|---|---|---|---|---|---|---|---|---|---|---|---|---|---|\n",
       "|  1       | 1.097373 | 1.097355 | \n",
       "|  2       | 1.096100 | 1.096045 | \n",
       "|  3       | 1.094837 | 1.094753 | \n",
       "|  4       | 1.093615 | 1.093503 | \n",
       "|  5       | 1.092424 | 1.092304 | \n",
       "|  6       | 1.091207 | 1.091066 | \n",
       "|  7       | 1.089983 | 1.089822 | \n",
       "|  8       | 1.088771 | 1.088595 | \n",
       "|  9       | 1.087664 | 1.087512 | \n",
       "| 10       | 1.086423 | 1.086248 | \n",
       "| 11       | 1.085215 | 1.085020 | \n",
       "| 12       | 1.083973 | 1.083744 | \n",
       "| 13       | 1.082762 | 1.082498 | \n",
       "| 14       | 1.081578 | 1.081278 | \n",
       "| 15       | 1.080397 | 1.080077 | \n",
       "| 16       | 1.079195 | 1.078849 | \n",
       "| 17       | 1.078002 | 1.077647 | \n",
       "| 18       | 1.076830 | 1.076478 | \n",
       "| 19       | 1.075650 | 1.075292 | \n",
       "| 20       | 1.074474 | 1.074120 | \n",
       "| 21       | 1.073232 | 1.072846 | \n",
       "| 22       | 1.072049 | 1.071632 | \n",
       "| 23       | 1.070821 | 1.070368 | \n",
       "| 24       | 1.069609 | 1.069123 | \n",
       "| 25       | 1.068439 | 1.067932 | \n",
       "| 26       | 1.067265 | 1.066704 | \n",
       "| 27       | 1.066061 | 1.065568 | \n",
       "| 28       | 1.064866 | 1.064355 | \n",
       "| 29       | 1.063674 | 1.063151 | \n",
       "| 30       | 1.062510 | 1.061979 | \n",
       "| ... | ... | ... | \n",
       "| 3236     | 0.192036 | 0.164464 | \n",
       "| 3237     | 0.192006 | 0.164421 | \n",
       "| 3238     | 0.192006 | 0.164415 | \n",
       "| 3239     | 0.191975 | 0.164378 | \n",
       "| 3240     | 0.191975 | 0.164379 | \n",
       "| 3241     | 0.191944 | 0.164336 | \n",
       "| 3242     | 0.191914 | 0.164298 | \n",
       "| 3243     | 0.191914 | 0.164301 | \n",
       "| 3244     | 0.191914 | 0.164299 | \n",
       "| 3245     | 0.191914 | 0.164297 | \n",
       "| 3246     | 0.191914 | 0.164298 | \n",
       "| 3247     | 0.191914 | 0.164298 | \n",
       "| 3248     | 0.191885 | 0.164264 | \n",
       "| 3249     | 0.191885 | 0.164266 | \n",
       "| 3250     | 0.191885 | 0.164261 | \n",
       "| 3251     | 0.191885 | 0.164261 | \n",
       "| 3252     | 0.191885 | 0.164259 | \n",
       "| 3253     | 0.191885 | 0.164257 | \n",
       "| 3254     | 0.191885 | 0.164258 | \n",
       "| 3255     | 0.191855 | 0.164217 | \n",
       "| 3256     | 0.191855 | 0.164217 | \n",
       "| 3257     | 0.191855 | 0.164217 | \n",
       "| 3258     | 0.191855 | 0.164219 | \n",
       "| 3259     | 0.191855 | 0.164219 | \n",
       "| 3260     | 0.191855 | 0.164217 | \n",
       "| 3261     | 0.191855 | 0.164217 | \n",
       "| 3262     | 0.191855 | 0.164221 | \n",
       "| 3263     | 0.191855 | 0.164224 | \n",
       "| 3264     | 0.191855 | 0.164228 | \n",
       "| 3265     | 0.191855 | 0.164229 | \n",
       "\n",
       "\n"
      ],
      "text/plain": [
       "     iter val1_mlogloss val2_mlogloss\n",
       "1     1   1.097373      1.097355     \n",
       "2     2   1.096100      1.096045     \n",
       "3     3   1.094837      1.094753     \n",
       "4     4   1.093615      1.093503     \n",
       "5     5   1.092424      1.092304     \n",
       "6     6   1.091207      1.091066     \n",
       "7     7   1.089983      1.089822     \n",
       "8     8   1.088771      1.088595     \n",
       "9     9   1.087664      1.087512     \n",
       "10   10   1.086423      1.086248     \n",
       "11   11   1.085215      1.085020     \n",
       "12   12   1.083973      1.083744     \n",
       "13   13   1.082762      1.082498     \n",
       "14   14   1.081578      1.081278     \n",
       "15   15   1.080397      1.080077     \n",
       "16   16   1.079195      1.078849     \n",
       "17   17   1.078002      1.077647     \n",
       "18   18   1.076830      1.076478     \n",
       "19   19   1.075650      1.075292     \n",
       "20   20   1.074474      1.074120     \n",
       "21   21   1.073232      1.072846     \n",
       "22   22   1.072049      1.071632     \n",
       "23   23   1.070821      1.070368     \n",
       "24   24   1.069609      1.069123     \n",
       "25   25   1.068439      1.067932     \n",
       "26   26   1.067265      1.066704     \n",
       "27   27   1.066061      1.065568     \n",
       "28   28   1.064866      1.064355     \n",
       "29   29   1.063674      1.063151     \n",
       "30   30   1.062510      1.061979     \n",
       "...  ...  ...           ...          \n",
       "3236 3236 0.192036      0.164464     \n",
       "3237 3237 0.192006      0.164421     \n",
       "3238 3238 0.192006      0.164415     \n",
       "3239 3239 0.191975      0.164378     \n",
       "3240 3240 0.191975      0.164379     \n",
       "3241 3241 0.191944      0.164336     \n",
       "3242 3242 0.191914      0.164298     \n",
       "3243 3243 0.191914      0.164301     \n",
       "3244 3244 0.191914      0.164299     \n",
       "3245 3245 0.191914      0.164297     \n",
       "3246 3246 0.191914      0.164298     \n",
       "3247 3247 0.191914      0.164298     \n",
       "3248 3248 0.191885      0.164264     \n",
       "3249 3249 0.191885      0.164266     \n",
       "3250 3250 0.191885      0.164261     \n",
       "3251 3251 0.191885      0.164261     \n",
       "3252 3252 0.191885      0.164259     \n",
       "3253 3253 0.191885      0.164257     \n",
       "3254 3254 0.191885      0.164258     \n",
       "3255 3255 0.191855      0.164217     \n",
       "3256 3256 0.191855      0.164217     \n",
       "3257 3257 0.191855      0.164217     \n",
       "3258 3258 0.191855      0.164219     \n",
       "3259 3259 0.191855      0.164219     \n",
       "3260 3260 0.191855      0.164217     \n",
       "3261 3261 0.191855      0.164217     \n",
       "3262 3262 0.191855      0.164221     \n",
       "3263 3263 0.191855      0.164224     \n",
       "3264 3264 0.191855      0.164228     \n",
       "3265 3265 0.191855      0.164229     "
      ]
     },
     "metadata": {},
     "output_type": "display_data"
    }
   ],
   "source": [
    "err <- (xgb.fit$evaluation_log)\n",
    "err"
   ]
  },
  {
   "cell_type": "code",
   "execution_count": 195,
   "metadata": {},
   "outputs": [
    {
     "data": {
      "image/png": "[encoded data removed]",
      "text/plain": [
       "plot without title"
      ]
     },
     "metadata": {},
     "output_type": "display_data"
    }
   ],
   "source": [
    "plot(err$iter,err$train_mlogloss,col=\"black\")\n",
    "lines(err$iter,err$test_mlogloss,col=\"red\")"
   ]
  },
  {
   "cell_type": "code",
   "execution_count": 194,
   "metadata": {},
   "outputs": [
    {
     "data": {
      "image/png": "[encoded data removed]",
      "text/plain": [
       "plot without title"
      ]
     },
     "metadata": {},
     "output_type": "display_data"
    }
   ],
   "source": [
    "imp <-xgb.importance(colnames(xgb.train),model = xgb.fit)\n",
    "xgb.plot.importance(imp )"
   ]
  },
  {
   "cell_type": "markdown",
   "metadata": {},
   "source": [
    "## New Outcomes Prediction"
   ]
  },
  {
   "cell_type": "code",
   "execution_count": 190,
   "metadata": {},
   "outputs": [
    {
     "data": {
      "text/html": [
       "<table>\n",
       "<thead><tr><th scope=col>setosa</th><th scope=col>versicolor</th><th scope=col>virginica</th></tr></thead>\n",
       "<tbody>\n",
       "\t<tr><td>0.89981306</td><td>0.05688815</td><td>0.04329879</td></tr>\n",
       "\t<tr><td>0.89718330</td><td>0.05964451</td><td>0.04317224</td></tr>\n",
       "\t<tr><td>0.89718330</td><td>0.05964451</td><td>0.04317224</td></tr>\n",
       "\t<tr><td>0.89981306</td><td>0.05688815</td><td>0.04329879</td></tr>\n",
       "\t<tr><td>0.89871651</td><td>0.05803748</td><td>0.04324602</td></tr>\n",
       "\t<tr><td>0.89416468</td><td>0.06280826</td><td>0.04302699</td></tr>\n",
       "\t<tr><td>0.89718330</td><td>0.05964451</td><td>0.04317224</td></tr>\n",
       "\t<tr><td>0.89981306</td><td>0.05688815</td><td>0.04329879</td></tr>\n",
       "\t<tr><td>0.89585626</td><td>0.06103532</td><td>0.04310839</td></tr>\n",
       "\t<tr><td>0.89871651</td><td>0.05803748</td><td>0.04324602</td></tr>\n",
       "\t<tr><td>0.89718330</td><td>0.05964451</td><td>0.04317224</td></tr>\n",
       "\t<tr><td>0.05974241</td><td>0.85794669</td><td>0.08231093</td></tr>\n",
       "\t<tr><td>0.06511649</td><td>0.84276164</td><td>0.09212194</td></tr>\n",
       "\t<tr><td>0.06734057</td><td>0.84522015</td><td>0.08743928</td></tr>\n",
       "\t<tr><td>0.06002679</td><td>0.86203063</td><td>0.07794262</td></tr>\n",
       "\t<tr><td>0.06024703</td><td>0.86114824</td><td>0.07860468</td></tr>\n",
       "\t<tr><td>0.06002679</td><td>0.86203063</td><td>0.07794262</td></tr>\n",
       "\t<tr><td>0.06574236</td><td>0.84368026</td><td>0.09057742</td></tr>\n",
       "\t<tr><td>0.06007718</td><td>0.86191475</td><td>0.07800806</td></tr>\n",
       "\t<tr><td>0.06015075</td><td>0.85977209</td><td>0.08007716</td></tr>\n",
       "\t<tr><td>0.06734057</td><td>0.84522015</td><td>0.08743928</td></tr>\n",
       "\t<tr><td>0.06610084</td><td>0.84806955</td><td>0.08582955</td></tr>\n",
       "\t<tr><td>0.04088131</td><td>0.07636312</td><td>0.88275558</td></tr>\n",
       "\t<tr><td>0.04086623</td><td>0.07670401</td><td>0.88242978</td></tr>\n",
       "\t<tr><td>0.04087067</td><td>0.07660361</td><td>0.88252568</td></tr>\n",
       "\t<tr><td>0.04086833</td><td>0.07665653</td><td>0.88247520</td></tr>\n",
       "\t<tr><td>0.04086623</td><td>0.07670401</td><td>0.88242978</td></tr>\n",
       "\t<tr><td>0.04086833</td><td>0.07665653</td><td>0.88247520</td></tr>\n",
       "\t<tr><td>0.08304283</td><td>0.37911808</td><td>0.53783911</td></tr>\n",
       "\t<tr><td>0.05565212</td><td>0.20642503</td><td>0.73792285</td></tr>\n",
       "\t<tr><td>0.07780900</td><td>0.43016493</td><td>0.49202603</td></tr>\n",
       "\t<tr><td>0.04086623</td><td>0.07670401</td><td>0.88242978</td></tr>\n",
       "\t<tr><td>0.04089217</td><td>0.07688057</td><td>0.88222730</td></tr>\n",
       "\t<tr><td>0.04087006</td><td>0.07661723</td><td>0.88251269</td></tr>\n",
       "\t<tr><td>0.04096735</td><td>0.07788959</td><td>0.88114309</td></tr>\n",
       "\t<tr><td>0.04538576</td><td>0.11547858</td><td>0.83913571</td></tr>\n",
       "\t<tr><td>0.04085234</td><td>0.07701763</td><td>0.88212997</td></tr>\n",
       "\t<tr><td>0.04099384</td><td>0.07805478</td><td>0.88095140</td></tr>\n",
       "</tbody>\n",
       "</table>\n"
      ],
      "text/latex": [
       "\\begin{tabular}{r|lll}\n",
       " setosa & versicolor & virginica\\\\\n",
       "\\hline\n",
       "\t 0.89981306 & 0.05688815 & 0.04329879\\\\\n",
       "\t 0.89718330 & 0.05964451 & 0.04317224\\\\\n",
       "\t 0.89718330 & 0.05964451 & 0.04317224\\\\\n",
       "\t 0.89981306 & 0.05688815 & 0.04329879\\\\\n",
       "\t 0.89871651 & 0.05803748 & 0.04324602\\\\\n",
       "\t 0.89416468 & 0.06280826 & 0.04302699\\\\\n",
       "\t 0.89718330 & 0.05964451 & 0.04317224\\\\\n",
       "\t 0.89981306 & 0.05688815 & 0.04329879\\\\\n",
       "\t 0.89585626 & 0.06103532 & 0.04310839\\\\\n",
       "\t 0.89871651 & 0.05803748 & 0.04324602\\\\\n",
       "\t 0.89718330 & 0.05964451 & 0.04317224\\\\\n",
       "\t 0.05974241 & 0.85794669 & 0.08231093\\\\\n",
       "\t 0.06511649 & 0.84276164 & 0.09212194\\\\\n",
       "\t 0.06734057 & 0.84522015 & 0.08743928\\\\\n",
       "\t 0.06002679 & 0.86203063 & 0.07794262\\\\\n",
       "\t 0.06024703 & 0.86114824 & 0.07860468\\\\\n",
       "\t 0.06002679 & 0.86203063 & 0.07794262\\\\\n",
       "\t 0.06574236 & 0.84368026 & 0.09057742\\\\\n",
       "\t 0.06007718 & 0.86191475 & 0.07800806\\\\\n",
       "\t 0.06015075 & 0.85977209 & 0.08007716\\\\\n",
       "\t 0.06734057 & 0.84522015 & 0.08743928\\\\\n",
       "\t 0.06610084 & 0.84806955 & 0.08582955\\\\\n",
       "\t 0.04088131 & 0.07636312 & 0.88275558\\\\\n",
       "\t 0.04086623 & 0.07670401 & 0.88242978\\\\\n",
       "\t 0.04087067 & 0.07660361 & 0.88252568\\\\\n",
       "\t 0.04086833 & 0.07665653 & 0.88247520\\\\\n",
       "\t 0.04086623 & 0.07670401 & 0.88242978\\\\\n",
       "\t 0.04086833 & 0.07665653 & 0.88247520\\\\\n",
       "\t 0.08304283 & 0.37911808 & 0.53783911\\\\\n",
       "\t 0.05565212 & 0.20642503 & 0.73792285\\\\\n",
       "\t 0.07780900 & 0.43016493 & 0.49202603\\\\\n",
       "\t 0.04086623 & 0.07670401 & 0.88242978\\\\\n",
       "\t 0.04089217 & 0.07688057 & 0.88222730\\\\\n",
       "\t 0.04087006 & 0.07661723 & 0.88251269\\\\\n",
       "\t 0.04096735 & 0.07788959 & 0.88114309\\\\\n",
       "\t 0.04538576 & 0.11547858 & 0.83913571\\\\\n",
       "\t 0.04085234 & 0.07701763 & 0.88212997\\\\\n",
       "\t 0.04099384 & 0.07805478 & 0.88095140\\\\\n",
       "\\end{tabular}\n"
      ],
      "text/markdown": [
       "\n",
       "setosa | versicolor | virginica | \n",
       "|---|---|---|---|---|---|---|---|---|---|---|---|---|---|---|---|---|---|---|---|---|---|---|---|---|---|---|---|---|---|---|---|---|---|---|---|---|---|\n",
       "| 0.89981306 | 0.05688815 | 0.04329879 | \n",
       "| 0.89718330 | 0.05964451 | 0.04317224 | \n",
       "| 0.89718330 | 0.05964451 | 0.04317224 | \n",
       "| 0.89981306 | 0.05688815 | 0.04329879 | \n",
       "| 0.89871651 | 0.05803748 | 0.04324602 | \n",
       "| 0.89416468 | 0.06280826 | 0.04302699 | \n",
       "| 0.89718330 | 0.05964451 | 0.04317224 | \n",
       "| 0.89981306 | 0.05688815 | 0.04329879 | \n",
       "| 0.89585626 | 0.06103532 | 0.04310839 | \n",
       "| 0.89871651 | 0.05803748 | 0.04324602 | \n",
       "| 0.89718330 | 0.05964451 | 0.04317224 | \n",
       "| 0.05974241 | 0.85794669 | 0.08231093 | \n",
       "| 0.06511649 | 0.84276164 | 0.09212194 | \n",
       "| 0.06734057 | 0.84522015 | 0.08743928 | \n",
       "| 0.06002679 | 0.86203063 | 0.07794262 | \n",
       "| 0.06024703 | 0.86114824 | 0.07860468 | \n",
       "| 0.06002679 | 0.86203063 | 0.07794262 | \n",
       "| 0.06574236 | 0.84368026 | 0.09057742 | \n",
       "| 0.06007718 | 0.86191475 | 0.07800806 | \n",
       "| 0.06015075 | 0.85977209 | 0.08007716 | \n",
       "| 0.06734057 | 0.84522015 | 0.08743928 | \n",
       "| 0.06610084 | 0.84806955 | 0.08582955 | \n",
       "| 0.04088131 | 0.07636312 | 0.88275558 | \n",
       "| 0.04086623 | 0.07670401 | 0.88242978 | \n",
       "| 0.04087067 | 0.07660361 | 0.88252568 | \n",
       "| 0.04086833 | 0.07665653 | 0.88247520 | \n",
       "| 0.04086623 | 0.07670401 | 0.88242978 | \n",
       "| 0.04086833 | 0.07665653 | 0.88247520 | \n",
       "| 0.08304283 | 0.37911808 | 0.53783911 | \n",
       "| 0.05565212 | 0.20642503 | 0.73792285 | \n",
       "| 0.07780900 | 0.43016493 | 0.49202603 | \n",
       "| 0.04086623 | 0.07670401 | 0.88242978 | \n",
       "| 0.04089217 | 0.07688057 | 0.88222730 | \n",
       "| 0.04087006 | 0.07661723 | 0.88251269 | \n",
       "| 0.04096735 | 0.07788959 | 0.88114309 | \n",
       "| 0.04538576 | 0.11547858 | 0.83913571 | \n",
       "| 0.04085234 | 0.07701763 | 0.88212997 | \n",
       "| 0.04099384 | 0.07805478 | 0.88095140 | \n",
       "\n",
       "\n"
      ],
      "text/plain": [
       "   setosa     versicolor virginica \n",
       "1  0.89981306 0.05688815 0.04329879\n",
       "2  0.89718330 0.05964451 0.04317224\n",
       "3  0.89718330 0.05964451 0.04317224\n",
       "4  0.89981306 0.05688815 0.04329879\n",
       "5  0.89871651 0.05803748 0.04324602\n",
       "6  0.89416468 0.06280826 0.04302699\n",
       "7  0.89718330 0.05964451 0.04317224\n",
       "8  0.89981306 0.05688815 0.04329879\n",
       "9  0.89585626 0.06103532 0.04310839\n",
       "10 0.89871651 0.05803748 0.04324602\n",
       "11 0.89718330 0.05964451 0.04317224\n",
       "12 0.05974241 0.85794669 0.08231093\n",
       "13 0.06511649 0.84276164 0.09212194\n",
       "14 0.06734057 0.84522015 0.08743928\n",
       "15 0.06002679 0.86203063 0.07794262\n",
       "16 0.06024703 0.86114824 0.07860468\n",
       "17 0.06002679 0.86203063 0.07794262\n",
       "18 0.06574236 0.84368026 0.09057742\n",
       "19 0.06007718 0.86191475 0.07800806\n",
       "20 0.06015075 0.85977209 0.08007716\n",
       "21 0.06734057 0.84522015 0.08743928\n",
       "22 0.06610084 0.84806955 0.08582955\n",
       "23 0.04088131 0.07636312 0.88275558\n",
       "24 0.04086623 0.07670401 0.88242978\n",
       "25 0.04087067 0.07660361 0.88252568\n",
       "26 0.04086833 0.07665653 0.88247520\n",
       "27 0.04086623 0.07670401 0.88242978\n",
       "28 0.04086833 0.07665653 0.88247520\n",
       "29 0.08304283 0.37911808 0.53783911\n",
       "30 0.05565212 0.20642503 0.73792285\n",
       "31 0.07780900 0.43016493 0.49202603\n",
       "32 0.04086623 0.07670401 0.88242978\n",
       "33 0.04089217 0.07688057 0.88222730\n",
       "34 0.04087006 0.07661723 0.88251269\n",
       "35 0.04096735 0.07788959 0.88114309\n",
       "36 0.04538576 0.11547858 0.83913571\n",
       "37 0.04085234 0.07701763 0.88212997\n",
       "38 0.04099384 0.07805478 0.88095140"
      ]
     },
     "metadata": {},
     "output_type": "display_data"
    }
   ],
   "source": [
    "xgb.pred = predict(xgb.fit,test.data,reshape=T)\n",
    "xgb.pred = as.data.frame(xgb.pred)\n",
    "colnames(xgb.pred) = levels(Species)\n",
    "xgb.pred"
   ]
  },
  {
   "cell_type": "markdown",
   "metadata": {},
   "source": [
    "## Identify High Probability"
   ]
  },
  {
   "cell_type": "code",
   "execution_count": 191,
   "metadata": {},
   "outputs": [
    {
     "data": {
      "text/html": [
       "<ol class=list-inline>\n",
       "\t<li>'setosa'</li>\n",
       "\t<li>'setosa'</li>\n",
       "\t<li>'setosa'</li>\n",
       "\t<li>'setosa'</li>\n",
       "\t<li>'setosa'</li>\n",
       "\t<li>'setosa'</li>\n",
       "\t<li>'setosa'</li>\n",
       "\t<li>'setosa'</li>\n",
       "\t<li>'setosa'</li>\n",
       "\t<li>'setosa'</li>\n",
       "\t<li>'setosa'</li>\n",
       "\t<li>'versicolor'</li>\n",
       "\t<li>'versicolor'</li>\n",
       "\t<li>'versicolor'</li>\n",
       "\t<li>'versicolor'</li>\n",
       "\t<li>'versicolor'</li>\n",
       "\t<li>'versicolor'</li>\n",
       "\t<li>'versicolor'</li>\n",
       "\t<li>'versicolor'</li>\n",
       "\t<li>'versicolor'</li>\n",
       "\t<li>'versicolor'</li>\n",
       "\t<li>'versicolor'</li>\n",
       "\t<li>'virginica'</li>\n",
       "\t<li>'virginica'</li>\n",
       "\t<li>'virginica'</li>\n",
       "\t<li>'virginica'</li>\n",
       "\t<li>'virginica'</li>\n",
       "\t<li>'virginica'</li>\n",
       "\t<li>'virginica'</li>\n",
       "\t<li>'virginica'</li>\n",
       "\t<li>'virginica'</li>\n",
       "\t<li>'virginica'</li>\n",
       "\t<li>'virginica'</li>\n",
       "\t<li>'virginica'</li>\n",
       "\t<li>'virginica'</li>\n",
       "\t<li>'virginica'</li>\n",
       "\t<li>'virginica'</li>\n",
       "\t<li>'virginica'</li>\n",
       "</ol>\n"
      ],
      "text/latex": [
       "\\begin{enumerate*}\n",
       "\\item 'setosa'\n",
       "\\item 'setosa'\n",
       "\\item 'setosa'\n",
       "\\item 'setosa'\n",
       "\\item 'setosa'\n",
       "\\item 'setosa'\n",
       "\\item 'setosa'\n",
       "\\item 'setosa'\n",
       "\\item 'setosa'\n",
       "\\item 'setosa'\n",
       "\\item 'setosa'\n",
       "\\item 'versicolor'\n",
       "\\item 'versicolor'\n",
       "\\item 'versicolor'\n",
       "\\item 'versicolor'\n",
       "\\item 'versicolor'\n",
       "\\item 'versicolor'\n",
       "\\item 'versicolor'\n",
       "\\item 'versicolor'\n",
       "\\item 'versicolor'\n",
       "\\item 'versicolor'\n",
       "\\item 'versicolor'\n",
       "\\item 'virginica'\n",
       "\\item 'virginica'\n",
       "\\item 'virginica'\n",
       "\\item 'virginica'\n",
       "\\item 'virginica'\n",
       "\\item 'virginica'\n",
       "\\item 'virginica'\n",
       "\\item 'virginica'\n",
       "\\item 'virginica'\n",
       "\\item 'virginica'\n",
       "\\item 'virginica'\n",
       "\\item 'virginica'\n",
       "\\item 'virginica'\n",
       "\\item 'virginica'\n",
       "\\item 'virginica'\n",
       "\\item 'virginica'\n",
       "\\end{enumerate*}\n"
      ],
      "text/markdown": [
       "1. 'setosa'\n",
       "2. 'setosa'\n",
       "3. 'setosa'\n",
       "4. 'setosa'\n",
       "5. 'setosa'\n",
       "6. 'setosa'\n",
       "7. 'setosa'\n",
       "8. 'setosa'\n",
       "9. 'setosa'\n",
       "10. 'setosa'\n",
       "11. 'setosa'\n",
       "12. 'versicolor'\n",
       "13. 'versicolor'\n",
       "14. 'versicolor'\n",
       "15. 'versicolor'\n",
       "16. 'versicolor'\n",
       "17. 'versicolor'\n",
       "18. 'versicolor'\n",
       "19. 'versicolor'\n",
       "20. 'versicolor'\n",
       "21. 'versicolor'\n",
       "22. 'versicolor'\n",
       "23. 'virginica'\n",
       "24. 'virginica'\n",
       "25. 'virginica'\n",
       "26. 'virginica'\n",
       "27. 'virginica'\n",
       "28. 'virginica'\n",
       "29. 'virginica'\n",
       "30. 'virginica'\n",
       "31. 'virginica'\n",
       "32. 'virginica'\n",
       "33. 'virginica'\n",
       "34. 'virginica'\n",
       "35. 'virginica'\n",
       "36. 'virginica'\n",
       "37. 'virginica'\n",
       "38. 'virginica'\n",
       "\n",
       "\n"
      ],
      "text/plain": [
       " [1] \"setosa\"     \"setosa\"     \"setosa\"     \"setosa\"     \"setosa\"    \n",
       " [6] \"setosa\"     \"setosa\"     \"setosa\"     \"setosa\"     \"setosa\"    \n",
       "[11] \"setosa\"     \"versicolor\" \"versicolor\" \"versicolor\" \"versicolor\"\n",
       "[16] \"versicolor\" \"versicolor\" \"versicolor\" \"versicolor\" \"versicolor\"\n",
       "[21] \"versicolor\" \"versicolor\" \"virginica\"  \"virginica\"  \"virginica\" \n",
       "[26] \"virginica\"  \"virginica\"  \"virginica\"  \"virginica\"  \"virginica\" \n",
       "[31] \"virginica\"  \"virginica\"  \"virginica\"  \"virginica\"  \"virginica\" \n",
       "[36] \"virginica\"  \"virginica\"  \"virginica\" "
      ]
     },
     "metadata": {},
     "output_type": "display_data"
    },
    {
     "data": {
      "text/html": [
       "<ol class=list-inline>\n",
       "\t<li>'setosa'</li>\n",
       "\t<li>'setosa'</li>\n",
       "\t<li>'setosa'</li>\n",
       "\t<li>'setosa'</li>\n",
       "\t<li>'setosa'</li>\n",
       "\t<li>'setosa'</li>\n",
       "\t<li>'setosa'</li>\n",
       "\t<li>'setosa'</li>\n",
       "\t<li>'setosa'</li>\n",
       "\t<li>'setosa'</li>\n",
       "\t<li>'setosa'</li>\n",
       "\t<li>'versicolor'</li>\n",
       "\t<li>'versicolor'</li>\n",
       "\t<li>'versicolor'</li>\n",
       "\t<li>'versicolor'</li>\n",
       "\t<li>'versicolor'</li>\n",
       "\t<li>'versicolor'</li>\n",
       "\t<li>'versicolor'</li>\n",
       "\t<li>'versicolor'</li>\n",
       "\t<li>'versicolor'</li>\n",
       "\t<li>'versicolor'</li>\n",
       "\t<li>'versicolor'</li>\n",
       "\t<li>'virginica'</li>\n",
       "\t<li>'virginica'</li>\n",
       "\t<li>'virginica'</li>\n",
       "\t<li>'virginica'</li>\n",
       "\t<li>'virginica'</li>\n",
       "\t<li>'virginica'</li>\n",
       "\t<li>'virginica'</li>\n",
       "\t<li>'virginica'</li>\n",
       "\t<li>'virginica'</li>\n",
       "\t<li>'virginica'</li>\n",
       "\t<li>'virginica'</li>\n",
       "\t<li>'virginica'</li>\n",
       "\t<li>'virginica'</li>\n",
       "\t<li>'virginica'</li>\n",
       "\t<li>'virginica'</li>\n",
       "\t<li>'virginica'</li>\n",
       "</ol>\n"
      ],
      "text/latex": [
       "\\begin{enumerate*}\n",
       "\\item 'setosa'\n",
       "\\item 'setosa'\n",
       "\\item 'setosa'\n",
       "\\item 'setosa'\n",
       "\\item 'setosa'\n",
       "\\item 'setosa'\n",
       "\\item 'setosa'\n",
       "\\item 'setosa'\n",
       "\\item 'setosa'\n",
       "\\item 'setosa'\n",
       "\\item 'setosa'\n",
       "\\item 'versicolor'\n",
       "\\item 'versicolor'\n",
       "\\item 'versicolor'\n",
       "\\item 'versicolor'\n",
       "\\item 'versicolor'\n",
       "\\item 'versicolor'\n",
       "\\item 'versicolor'\n",
       "\\item 'versicolor'\n",
       "\\item 'versicolor'\n",
       "\\item 'versicolor'\n",
       "\\item 'versicolor'\n",
       "\\item 'virginica'\n",
       "\\item 'virginica'\n",
       "\\item 'virginica'\n",
       "\\item 'virginica'\n",
       "\\item 'virginica'\n",
       "\\item 'virginica'\n",
       "\\item 'virginica'\n",
       "\\item 'virginica'\n",
       "\\item 'virginica'\n",
       "\\item 'virginica'\n",
       "\\item 'virginica'\n",
       "\\item 'virginica'\n",
       "\\item 'virginica'\n",
       "\\item 'virginica'\n",
       "\\item 'virginica'\n",
       "\\item 'virginica'\n",
       "\\end{enumerate*}\n"
      ],
      "text/markdown": [
       "1. 'setosa'\n",
       "2. 'setosa'\n",
       "3. 'setosa'\n",
       "4. 'setosa'\n",
       "5. 'setosa'\n",
       "6. 'setosa'\n",
       "7. 'setosa'\n",
       "8. 'setosa'\n",
       "9. 'setosa'\n",
       "10. 'setosa'\n",
       "11. 'setosa'\n",
       "12. 'versicolor'\n",
       "13. 'versicolor'\n",
       "14. 'versicolor'\n",
       "15. 'versicolor'\n",
       "16. 'versicolor'\n",
       "17. 'versicolor'\n",
       "18. 'versicolor'\n",
       "19. 'versicolor'\n",
       "20. 'versicolor'\n",
       "21. 'versicolor'\n",
       "22. 'versicolor'\n",
       "23. 'virginica'\n",
       "24. 'virginica'\n",
       "25. 'virginica'\n",
       "26. 'virginica'\n",
       "27. 'virginica'\n",
       "28. 'virginica'\n",
       "29. 'virginica'\n",
       "30. 'virginica'\n",
       "31. 'virginica'\n",
       "32. 'virginica'\n",
       "33. 'virginica'\n",
       "34. 'virginica'\n",
       "35. 'virginica'\n",
       "36. 'virginica'\n",
       "37. 'virginica'\n",
       "38. 'virginica'\n",
       "\n",
       "\n"
      ],
      "text/plain": [
       " [1] \"setosa\"     \"setosa\"     \"setosa\"     \"setosa\"     \"setosa\"    \n",
       " [6] \"setosa\"     \"setosa\"     \"setosa\"     \"setosa\"     \"setosa\"    \n",
       "[11] \"setosa\"     \"versicolor\" \"versicolor\" \"versicolor\" \"versicolor\"\n",
       "[16] \"versicolor\" \"versicolor\" \"versicolor\" \"versicolor\" \"versicolor\"\n",
       "[21] \"versicolor\" \"versicolor\" \"virginica\"  \"virginica\"  \"virginica\" \n",
       "[26] \"virginica\"  \"virginica\"  \"virginica\"  \"virginica\"  \"virginica\" \n",
       "[31] \"virginica\"  \"virginica\"  \"virginica\"  \"virginica\"  \"virginica\" \n",
       "[36] \"virginica\"  \"virginica\"  \"virginica\" "
      ]
     },
     "metadata": {},
     "output_type": "display_data"
    }
   ],
   "source": [
    "xgb.pred$prediction = apply(xgb.pred,1,function(x) colnames(xgb.pred)[which.max(x)])\n",
    "xgb.pred$label = levels(Species)[test.label+1]\n",
    "xgb.pred$prediction\n",
    "xgb.pred$label"
   ]
  },
  {
   "cell_type": "markdown",
   "metadata": {},
   "source": [
    "## Metrics"
   ]
  },
  {
   "cell_type": "code",
   "execution_count": 192,
   "metadata": {},
   "outputs": [
    {
     "data": {
      "text/html": [
       "1"
      ],
      "text/latex": [
       "1"
      ],
      "text/markdown": [
       "1"
      ],
      "text/plain": [
       "[1] 1"
      ]
     },
     "metadata": {},
     "output_type": "display_data"
    }
   ],
   "source": [
    "result = sum(xgb.pred$prediction==xgb.pred$label)/nrow(xgb.pred)\n",
    "result"
   ]
  },
  {
   "cell_type": "code",
   "execution_count": 196,
   "metadata": {},
   "outputs": [
    {
     "name": "stdout",
     "output_type": "stream",
     "text": [
      "[1] \"Final Accuracy = 100.00%\"\n"
     ]
    }
   ],
   "source": [
    "print(paste(\"Final Accuracy =\",sprintf(\"%1.2f%%\", 100*result)))"
   ]
  },
  {
   "cell_type": "code",
   "execution_count": null,
   "metadata": {},
   "outputs": [],
   "source": []
  }
 ],
 "metadata": {
  "kernelspec": {
   "display_name": "R",
   "language": "R",
   "name": "ir"
  },
  "language_info": {
   "codemirror_mode": "r",
   "file_extension": ".r",
   "mimetype": "text/x-r-source",
   "name": "R",
   "pygments_lexer": "r",
   "version": "3.5.1"
  }
 },
 "nbformat": 4,
 "nbformat_minor": 2
}
